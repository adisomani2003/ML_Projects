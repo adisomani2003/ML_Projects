{
  "nbformat": 4,
  "nbformat_minor": 0,
  "metadata": {
    "colab": {
      "name": "Multilayer Perceptron.ipynb",
      "provenance": []
    },
    "kernelspec": {
      "name": "python3",
      "display_name": "Python 3"
    },
    "language_info": {
      "name": "python"
    }
  },
  "cells": [
    {
      "cell_type": "code",
      "metadata": {
        "id": "nWnl2ndRhdZ7"
      },
      "source": [
        "from numpy.random import seed\n",
        "seed(888)\n",
        "\n",
        "import tensorflow as tf\n",
        "\n",
        "tf.random.set_seed(404)\n"
      ],
      "execution_count": null,
      "outputs": []
    },
    {
      "cell_type": "code",
      "metadata": {
        "id": "sWhNNpbYh6_M"
      },
      "source": [
        "import os\n",
        "import numpy as np\n",
        "import tensorflow as tf\n",
        "import itertools\n",
        "\n",
        "import keras\n",
        "from keras.datasets import cifar10\n",
        "from keras.models import Sequential\n",
        "from keras.layers import Dense, Activation, Dropout\n",
        "\n",
        "from IPython.display import display\n",
        "from keras.preprocessing.image import array_to_img\n",
        "from keras.callbacks import TensorBoard\n",
        "\n",
        "from time import strftime\n",
        "\n",
        "from sklearn.metrics import confusion_matrix\n",
        "\n",
        "\n",
        "import matplotlib.pyplot as plt\n",
        "\n",
        "%matplotlib inline\n"
      ],
      "execution_count": null,
      "outputs": []
    },
    {
      "cell_type": "code",
      "metadata": {
        "id": "9blgf_BTIwzQ"
      },
      "source": [
        "LOG_DIR = 'tensorboard_cifar_logs/'\n",
        "\n",
        "LABEL_NAMES = ['Plane', 'Car', 'Bird', 'Cat', 'Deer', 'Dog', 'Frog', 'Horse', 'Ship', 'Truck']\n",
        "IMAGE_WIDTH = 32\n",
        "IMAGE_HEIGHT = 32\n",
        "IMAGE_PIXELS = IMAGE_WIDTH * IMAGE_HEIGHT\n",
        "COLOR_CHANNELS = 3\n",
        "TOTAL_INPUTS = IMAGE_PIXELS * COLOR_CHANNELS\n",
        "NR_CLASSES = 10\n",
        "\n",
        "VALIDATION_SIZE = 10000\n",
        "SMALL_TRAIN_SIZE = 1000"
      ],
      "execution_count": null,
      "outputs": []
    },
    {
      "cell_type": "code",
      "metadata": {
        "colab": {
          "base_uri": "https://localhost:8080/"
        },
        "id": "6bUcFLEOie6P",
        "outputId": "c902727f-b4d3-459d-80a5-d2a380ea1d69"
      },
      "source": [
        "(x_train_all, y_train_all), (x_test, y_test) =cifar10.load_data()"
      ],
      "execution_count": null,
      "outputs": [
        {
          "output_type": "stream",
          "text": [
            "Downloading data from https://www.cs.toronto.edu/~kriz/cifar-10-python.tar.gz\n",
            "170500096/170498071 [==============================] - 2s 0us/step\n",
            "170508288/170498071 [==============================] - 2s 0us/step\n"
          ],
          "name": "stdout"
        }
      ]
    },
    {
      "cell_type": "code",
      "metadata": {
        "colab": {
          "base_uri": "https://localhost:8080/"
        },
        "id": "IwXtV4VIk-0b",
        "outputId": "3f94517a-ca71-4cfc-c064-0b3c5816cde6"
      },
      "source": [
        "type(x_train_all)"
      ],
      "execution_count": null,
      "outputs": [
        {
          "output_type": "execute_result",
          "data": {
            "text/plain": [
              "numpy.ndarray"
            ]
          },
          "metadata": {
            "tags": []
          },
          "execution_count": 7
        }
      ]
    },
    {
      "cell_type": "markdown",
      "metadata": {
        "id": "SuliD0q0B3fL"
      },
      "source": [
        "# Explore the Data"
      ]
    },
    {
      "cell_type": "code",
      "metadata": {
        "colab": {
          "base_uri": "https://localhost:8080/"
        },
        "id": "OxOZWc0IB7R_",
        "outputId": "eec71a31-b5f2-41a0-d879-f137fb738f79"
      },
      "source": [
        "x_train_all[0]"
      ],
      "execution_count": null,
      "outputs": [
        {
          "output_type": "execute_result",
          "data": {
            "text/plain": [
              "array([[[ 59,  62,  63],\n",
              "        [ 43,  46,  45],\n",
              "        [ 50,  48,  43],\n",
              "        ...,\n",
              "        [158, 132, 108],\n",
              "        [152, 125, 102],\n",
              "        [148, 124, 103]],\n",
              "\n",
              "       [[ 16,  20,  20],\n",
              "        [  0,   0,   0],\n",
              "        [ 18,   8,   0],\n",
              "        ...,\n",
              "        [123,  88,  55],\n",
              "        [119,  83,  50],\n",
              "        [122,  87,  57]],\n",
              "\n",
              "       [[ 25,  24,  21],\n",
              "        [ 16,   7,   0],\n",
              "        [ 49,  27,   8],\n",
              "        ...,\n",
              "        [118,  84,  50],\n",
              "        [120,  84,  50],\n",
              "        [109,  73,  42]],\n",
              "\n",
              "       ...,\n",
              "\n",
              "       [[208, 170,  96],\n",
              "        [201, 153,  34],\n",
              "        [198, 161,  26],\n",
              "        ...,\n",
              "        [160, 133,  70],\n",
              "        [ 56,  31,   7],\n",
              "        [ 53,  34,  20]],\n",
              "\n",
              "       [[180, 139,  96],\n",
              "        [173, 123,  42],\n",
              "        [186, 144,  30],\n",
              "        ...,\n",
              "        [184, 148,  94],\n",
              "        [ 97,  62,  34],\n",
              "        [ 83,  53,  34]],\n",
              "\n",
              "       [[177, 144, 116],\n",
              "        [168, 129,  94],\n",
              "        [179, 142,  87],\n",
              "        ...,\n",
              "        [216, 184, 140],\n",
              "        [151, 118,  84],\n",
              "        [123,  92,  72]]], dtype=uint8)"
            ]
          },
          "metadata": {
            "tags": []
          },
          "execution_count": 8
        }
      ]
    },
    {
      "cell_type": "code",
      "metadata": {
        "colab": {
          "base_uri": "https://localhost:8080/",
          "height": 49
        },
        "id": "4wa9tJumB-7N",
        "outputId": "c15e9866-23b6-43f9-e44b-7dbd4ecdc9b9"
      },
      "source": [
        "pic = array_to_img(x_train_all[6])\n",
        "display(pic)"
      ],
      "execution_count": null,
      "outputs": [
        {
          "output_type": "display_data",
          "data": {
            "image/png": "[encoded data removed]",
            "text/plain": [
              "<PIL.Image.Image image mode=RGB size=32x32 at 0x7F430283B790>"
            ]
          },
          "metadata": {
            "tags": []
          }
        }
      ]
    },
    {
      "cell_type": "code",
      "metadata": {
        "colab": {
          "base_uri": "https://localhost:8080/",
          "height": 35
        },
        "id": "jxWx9B-GCLJf",
        "outputId": "95a18af4-2eac-4a79-a842-d00aa43f278d"
      },
      "source": [
        "LABEL_NAMES[y_train_all[6][0]]"
      ],
      "execution_count": null,
      "outputs": [
        {
          "output_type": "execute_result",
          "data": {
            "application/vnd.google.colaboratory.intrinsic+json": {
              "type": "string"
            },
            "text/plain": [
              "'Bird'"
            ]
          },
          "metadata": {
            "tags": []
          },
          "execution_count": 10
        }
      ]
    },
    {
      "cell_type": "code",
      "metadata": {
        "colab": {
          "base_uri": "https://localhost:8080/",
          "height": 285
        },
        "id": "scr9-8jnCRzG",
        "outputId": "b2233708-edfc-4795-b694-879feb43777b"
      },
      "source": [
        "plt.imshow(x_train_all[4])\n",
        "plt.xlabel(LABEL_NAMES[y_train_all[4][0]], fontsize=15)\n",
        "plt.show()"
      ],
      "execution_count": null,
      "outputs": [
        {
          "output_type": "display_data",
          "data": {
            "image/png": "[encoded data removed]",
            "text/plain": [
              "<Figure size 432x288 with 1 Axes>"
            ]
          },
          "metadata": {
            "tags": [],
            "needs_background": "light"
          }
        }
      ]
    },
    {
      "cell_type": "code",
      "metadata": {
        "colab": {
          "base_uri": "https://localhost:8080/",
          "height": 120
        },
        "id": "oCmbx6H7Rxuq",
        "outputId": "7c5764a5-92a0-45be-9273-35fceaa79e13"
      },
      "source": [
        "plt.figure(figsize=(15,5))\n",
        "\n",
        "for i in range(10):\n",
        "   plt.subplot(1, 10, i+1)\n",
        "   plt.xticks([])\n",
        "   plt.yticks([])\n",
        "   plt.xlabel(LABEL_NAMES[y_train_all[i][0]], fontsize=14)\n",
        "   plt.imshow(x_train_all[i])"
      ],
      "execution_count": null,
      "outputs": [
        {
          "output_type": "display_data",
          "data": {
            "image/png": "[encoded data removed]",
            "text/plain": [
              "<Figure size 1080x360 with 10 Axes>"
            ]
          },
          "metadata": {
            "tags": []
          }
        }
      ]
    },
    {
      "cell_type": "code",
      "metadata": {
        "id": "OFffsKaXSyoV",
        "colab": {
          "base_uri": "https://localhost:8080/"
        },
        "outputId": "acb1c734-63f5-478e-ceaa-757857dc44e7"
      },
      "source": [
        "x_train_all[0].shape"
      ],
      "execution_count": null,
      "outputs": [
        {
          "output_type": "execute_result",
          "data": {
            "text/plain": [
              "(32, 32, 3)"
            ]
          },
          "metadata": {
            "tags": []
          },
          "execution_count": 13
        }
      ]
    },
    {
      "cell_type": "code",
      "metadata": {
        "id": "IJmNP9F66Zt0"
      },
      "source": [
        ""
      ],
      "execution_count": null,
      "outputs": []
    },
    {
      "cell_type": "markdown",
      "metadata": {
        "id": "wAyBLEdz7nYt"
      },
      "source": [
        "#PreProcess Data"
      ]
    },
    {
      "cell_type": "code",
      "metadata": {
        "colab": {
          "base_uri": "https://localhost:8080/"
        },
        "id": "d69iJtLA7svx",
        "outputId": "f3e72aff-cdad-4661-a12e-9fac87196b96"
      },
      "source": [
        "x_train_all[0][0][0]\n",
        "#gets the array for a particular pixel"
      ],
      "execution_count": null,
      "outputs": [
        {
          "output_type": "execute_result",
          "data": {
            "text/plain": [
              "array([59, 62, 63], dtype=uint8)"
            ]
          },
          "metadata": {
            "tags": []
          },
          "execution_count": 14
        }
      ]
    },
    {
      "cell_type": "code",
      "metadata": {
        "colab": {
          "base_uri": "https://localhost:8080/"
        },
        "id": "ZIMbzlAW9fdp",
        "outputId": "7698ef70-18e3-48f6-ecea-3d4fbdbea502"
      },
      "source": [
        "type(x_train_all[0][0][0][0])\n",
        "#This is an integer"
      ],
      "execution_count": null,
      "outputs": [
        {
          "output_type": "execute_result",
          "data": {
            "text/plain": [
              "numpy.uint8"
            ]
          },
          "metadata": {
            "tags": []
          },
          "execution_count": 15
        }
      ]
    },
    {
      "cell_type": "code",
      "metadata": {
        "id": "Oiu_Y5G09T7v"
      },
      "source": [
        "x_train_all = x_train_all/255.0\n",
        "x_test = x_test/255.0\n",
        "#Now values will convert to float"
      ],
      "execution_count": null,
      "outputs": []
    },
    {
      "cell_type": "code",
      "metadata": {
        "colab": {
          "base_uri": "https://localhost:8080/"
        },
        "id": "dPK2PX8K9oXY",
        "outputId": "533f524c-2f96-4a07-b9e5-68ca7423b2a0"
      },
      "source": [
        "type(x_train_all[0][0][0][0])"
      ],
      "execution_count": null,
      "outputs": [
        {
          "output_type": "execute_result",
          "data": {
            "text/plain": [
              "numpy.float64"
            ]
          },
          "metadata": {
            "tags": []
          },
          "execution_count": 17
        }
      ]
    },
    {
      "cell_type": "code",
      "metadata": {
        "colab": {
          "base_uri": "https://localhost:8080/"
        },
        "id": "_R3VwQS1-k2S",
        "outputId": "585a281e-721d-4396-85de-8606eac15eca"
      },
      "source": [
        "#Flattening out our data\n",
        "x_train_all = x_train_all.reshape(x_train_all.shape[0], TOTAL_INPUTS)\n",
        "# 32*32*3 = Number of pixels in height*width*color channels \n",
        "x_train_all.shape"
      ],
      "execution_count": null,
      "outputs": [
        {
          "output_type": "execute_result",
          "data": {
            "text/plain": [
              "(50000, 3072)"
            ]
          },
          "metadata": {
            "tags": []
          },
          "execution_count": 18
        }
      ]
    },
    {
      "cell_type": "code",
      "metadata": {
        "id": "Y7LRzTBdCcTy"
      },
      "source": [
        "x_test = x_test.reshape(x_test.shape[0], TOTAL_INPUTS)"
      ],
      "execution_count": null,
      "outputs": []
    },
    {
      "cell_type": "code",
      "metadata": {
        "id": "dMo_PYucDSQa"
      },
      "source": [
        ""
      ],
      "execution_count": null,
      "outputs": []
    },
    {
      "cell_type": "markdown",
      "metadata": {
        "id": "NNA30nUWES2-"
      },
      "source": [
        "#Create Validation Dataset"
      ]
    },
    {
      "cell_type": "code",
      "metadata": {
        "id": "LvkitxhCEWTm"
      },
      "source": [
        "  x_val = x_train_all[:VAL]\n",
        "  y_val = y_train_all[:VAL]\n",
        "  # Creating a validation dataset by taking the first 10k rows"
      ],
      "execution_count": null,
      "outputs": []
    },
    {
      "cell_type": "code",
      "metadata": {
        "colab": {
          "base_uri": "https://localhost:8080/"
        },
        "id": "0m1uKDtcFKQR",
        "outputId": "4b0313b9-127a-41f0-d381-f4a2db1a86c2"
      },
      "source": [
        "#Now we must remove these first 10k images from our training dataset\n",
        "x_train = x_train_all[VAL:]\n",
        "y_train = y_train_all[VAL:]\n",
        "x_train.shape"
      ],
      "execution_count": null,
      "outputs": [
        {
          "output_type": "execute_result",
          "data": {
            "text/plain": [
              "(40000, 3072)"
            ]
          },
          "metadata": {
            "tags": []
          },
          "execution_count": 21
        }
      ]
    },
    {
      "cell_type": "code",
      "metadata": {
        "id": "8yuJUuQZGO8q"
      },
      "source": [
        "x_train_s = x_train[:1000]\n",
        "y_train_s = y_train[:1000]\n"
      ],
      "execution_count": null,
      "outputs": []
    },
    {
      "cell_type": "code",
      "metadata": {
        "id": "M1U8OdT8IznL"
      },
      "source": [
        ""
      ],
      "execution_count": null,
      "outputs": []
    },
    {
      "cell_type": "markdown",
      "metadata": {
        "id": "K6cxJSfGTyVq"
      },
      "source": [
        "#Define The Neural Networks From Keras"
      ]
    },
    {
      "cell_type": "code",
      "metadata": {
        "id": "qD0ZC8hdT4S1"
      },
      "source": [
        "model_1 = Sequential([Dense(units = 128, input_dim = TOTAL_INPUTS, activation = 'relu', name='m1_hidden1'),\n",
        "                      Dense(units = 64, activation = 'relu', name='m1_hidden2'),\n",
        "                      Dense(units = 16, activation = 'relu', name='m1_hidden3'),\n",
        "                      Dense(units = 10, activation='softmax', name='m1_output')\n",
        "                      ])\n",
        "model_1.compile(optimizer='Adam', loss='sparse_categorical_crossentropy', metrics = 'accuracy')"
      ],
      "execution_count": null,
      "outputs": []
    },
    {
      "cell_type": "code",
      "metadata": {
        "colab": {
          "base_uri": "https://localhost:8080/"
        },
        "id": "4HjcCgJ8XrSy",
        "outputId": "ad421d94-9255-49bb-8783-25bf77c99aea"
      },
      "source": [
        "model_1.summary()\n"
      ],
      "execution_count": null,
      "outputs": [
        {
          "output_type": "stream",
          "text": [
            "Model: \"sequential\"\n",
            "_________________________________________________________________\n",
            "Layer (type)                 Output Shape              Param #   \n",
            "=================================================================\n",
            "m1_hidden1 (Dense)           (None, 128)               393344    \n",
            "_________________________________________________________________\n",
            "m1_hidden2 (Dense)           (None, 64)                8256      \n",
            "_________________________________________________________________\n",
            "m1_hidden3 (Dense)           (None, 16)                1040      \n",
            "_________________________________________________________________\n",
            "m1_output (Dense)            (None, 10)                170       \n",
            "=================================================================\n",
            "Total params: 402,810\n",
            "Trainable params: 402,810\n",
            "Non-trainable params: 0\n",
            "_________________________________________________________________\n"
          ],
          "name": "stdout"
        }
      ]
    },
    {
      "cell_type": "code",
      "metadata": {
        "colab": {
          "base_uri": "https://localhost:8080/"
        },
        "id": "7kUxYOc-dNpu",
        "outputId": "4fad9581-5ae7-41ef-ae6a-091018af0c7c"
      },
      "source": [
        " #Making sense about the parameter\n",
        "32*32*3*128 #This is the total numeber of parameters coming from neurons, but as each neuron has weight and a bais so\n",
        "            #We weill add 128 more\n",
        "32*32*3*128+128         \n",
        " "
      ],
      "execution_count": null,
      "outputs": [
        {
          "output_type": "execute_result",
          "data": {
            "text/plain": [
              "393344"
            ]
          },
          "metadata": {
            "tags": []
          },
          "execution_count": 25
        }
      ]
    },
    {
      "cell_type": "code",
      "metadata": {
        "colab": {
          "base_uri": "https://localhost:8080/"
        },
        "id": "LsOE2RM5e-5s",
        "outputId": "57e26516-d0c9-4dcd-b080-5530c219df2b"
      },
      "source": [
        "32*32*3*128 + 128 + (128*64 + 64) + (64*16 + 16) + (16*10 + 10)\n",
        "#For all layers"
      ],
      "execution_count": null,
      "outputs": [
        {
          "output_type": "execute_result",
          "data": {
            "text/plain": [
              "402810"
            ]
          },
          "metadata": {
            "tags": []
          },
          "execution_count": 26
        }
      ]
    },
    {
      "cell_type": "code",
      "metadata": {
        "id": "5pna8TzFfd5c"
      },
      "source": [
        "model_2 = Sequential()\n",
        "model_2.add(Dropout(0.2, seed=42, input_shape=(TOTAL_INPUTS,)))\n",
        "model_2.add(Dense(128, activation='relu', name='m2_hidden1'))\n",
        "model_2.add(Dense(64, activation='relu', name='m2_hidden2'))\n",
        "model_2.add(Dense(15, activation='relu', name='m2_hidden3'))\n",
        "model_2.add(Dense(10, activation='softmax', name='m2_output'))\n",
        "\n",
        "model_2.compile(optimizer='adam', \n",
        "                loss='sparse_categorical_crossentropy', \n",
        "                metrics=['accuracy'])"
      ],
      "execution_count": null,
      "outputs": []
    },
    {
      "cell_type": "code",
      "metadata": {
        "id": "0jB_bVRuPjLl"
      },
      "source": [
        "model_3 = Sequential()\n",
        "model_3.add(Dropout(0.2, seed=42, input_shape=(TOTAL_INPUTS,)))\n",
        "model_3.add(Dense(128, activation='relu', name='m3_hidden1'))\n",
        "model_3.add(Dropout(0.25, seed=42))\n",
        "model_3.add(Dense(64, activation='relu', name='m3_hidden2'))\n",
        "model_3.add(Dense(15, activation='relu', name='m3_hidden3'))\n",
        "model_3.add(Dense(10, activation='softmax', name='m3_output'))\n",
        "\n",
        "model_3.compile(optimizer='adam', \n",
        "                loss='sparse_categorical_crossentropy', \n",
        "                metrics=['accuracy'])"
      ],
      "execution_count": null,
      "outputs": []
    },
    {
      "cell_type": "markdown",
      "metadata": {
        "id": "Xz4Jl7pw-Ycu"
      },
      "source": [
        "#Fit the model"
      ]
    },
    {
      "cell_type": "code",
      "metadata": {
        "id": "4GcWRpo0Ko9D"
      },
      "source": [
        "def get_tensorboard(model_name):\n",
        "\n",
        "    folder_name = f'{model_name} at {strftime(\"%H %M\")}'\n",
        "    dir_paths = os.path.join(LOG_DIR, folder_name)\n",
        "\n",
        "    try:\n",
        "        os.makedirs(dir_paths)\n",
        "    except OSError as err:\n",
        "        print(err.strerror)\n",
        "    else:\n",
        "        print('Successfully created directory')\n",
        "\n",
        "    return TensorBoard(log_dir=dir_paths)"
      ],
      "execution_count": null,
      "outputs": []
    },
    {
      "cell_type": "code",
      "metadata": {
        "id": "MixWCy1FLt3P"
      },
      "source": [
        "samples_per_batch = 1000"
      ],
      "execution_count": null,
      "outputs": []
    },
    {
      "cell_type": "code",
      "metadata": {
        "colab": {
          "base_uri": "https://localhost:8080/"
        },
        "id": "6D7TepCl-aej",
        "outputId": "7d6a383c-358f-4c0b-a547-3675ff3eed06"
      },
      "source": [
        "# %%time\n",
        "# nr_epochs = 150\n",
        "# model_1.fit(x_train_s, y_train_s, batch_size=samples_per_batch, epochs=nr_epochs,\n",
        "#             callbacks=[get_tensorboard('Model 1')], verbose=0, validation_data=(x_val, y_val))"
      ],
      "execution_count": null,
      "outputs": [
        {
          "output_type": "stream",
          "text": [
            "Successfully created directory\n",
            "CPU times: user 1min 6s, sys: 959 ms, total: 1min 7s\n",
            "Wall time: 1min 21s\n"
          ],
          "name": "stdout"
        }
      ]
    },
    {
      "cell_type": "code",
      "metadata": {
        "colab": {
          "base_uri": "https://localhost:8080/"
        },
        "id": "AXnCiShvKzPT",
        "outputId": "6deb4907-94e8-49be-da0d-971fff2acfc4"
      },
      "source": [
        "# %%time\n",
        "# nr_epochs = 150\n",
        "# model_2.fit(x_train_s, y_train_s, batch_size=samples_per_batch, epochs=nr_epochs,\n",
        "#             callbacks=[get_tensorboard('Model 2')], verbose=0, validation_data=(x_val, y_val))"
      ],
      "execution_count": null,
      "outputs": [
        {
          "output_type": "stream",
          "text": [
            "Successfully created directory\n",
            "CPU times: user 1min 14s, sys: 940 ms, total: 1min 15s\n",
            "Wall time: 53 s\n"
          ],
          "name": "stdout"
        }
      ]
    },
    {
      "cell_type": "code",
      "metadata": {
        "id": "xiph2T0WJI9P",
        "colab": {
          "base_uri": "https://localhost:8080/"
        },
        "outputId": "56b53acf-5d52-4a81-b9b4-9aef5ad8e9a6"
      },
      "source": [
        "%%time\n",
        "nr_epochs = 100\n",
        "model_1.fit(x_train, y_train, batch_size=samples_per_batch, epochs=nr_epochs,\n",
        "            callbacks=[get_tensorboard('Model 1XL')], verbose=0, validation_data=(x_val, y_val))"
      ],
      "execution_count": null,
      "outputs": [
        {
          "output_type": "stream",
          "text": [
            "Successfully created directory\n",
            "CPU times: user 5min 58s, sys: 3.89 s, total: 6min 2s\n",
            "Wall time: 3min 19s\n"
          ],
          "name": "stdout"
        }
      ]
    },
    {
      "cell_type": "code",
      "metadata": {
        "colab": {
          "base_uri": "https://localhost:8080/"
        },
        "id": "sGBl9ZKFQEWr",
        "outputId": "321a16f5-ee56-4065-c116-4f5781928c9b"
      },
      "source": [
        "%%time\n",
        "nr_epochs = 100\n",
        "model_2.fit(x_train, y_train, batch_size=samples_per_batch, epochs=nr_epochs,\n",
        "            callbacks=[get_tensorboard('Model 2XL')], verbose=0, validation_data=(x_val, y_val))"
      ],
      "execution_count": null,
      "outputs": [
        {
          "output_type": "stream",
          "text": [
            "Successfully created directory\n",
            "CPU times: user 9min 26s, sys: 6.12 s, total: 9min 32s\n",
            "Wall time: 5min 11s\n"
          ],
          "name": "stdout"
        }
      ]
    },
    {
      "cell_type": "code",
      "metadata": {
        "colab": {
          "base_uri": "https://localhost:8080/"
        },
        "id": "XlhtkPrAQJQe",
        "outputId": "e00a04f5-6312-43d3-ea19-3822ed19f43f"
      },
      "source": [
        "%%time\n",
        "nr_epochs = 100\n",
        "model_3.fit(x_train, y_train, batch_size=samples_per_batch, epochs=nr_epochs,\n",
        "            callbacks=[get_tensorboard('Model 3XL')], verbose=0, validation_data=(x_val, y_val))"
      ],
      "execution_count": null,
      "outputs": [
        {
          "output_type": "stream",
          "text": [
            "Successfully created directory\n",
            "CPU times: user 9min 33s, sys: 6.77 s, total: 9min 40s\n",
            "Wall time: 5min 23s\n"
          ],
          "name": "stdout"
        }
      ]
    },
    {
      "cell_type": "code",
      "metadata": {
        "id": "-jUm20YzS7UU"
      },
      "source": [
        ""
      ],
      "execution_count": null,
      "outputs": []
    },
    {
      "cell_type": "markdown",
      "metadata": {
        "id": "-Rqg5pAtV9ih"
      },
      "source": [
        "#Predicting"
      ]
    },
    {
      "cell_type": "code",
      "metadata": {
        "colab": {
          "base_uri": "https://localhost:8080/"
        },
        "id": "OwT_2rzNV-57",
        "outputId": "2b436137-c144-496f-c452-e2ec7d2e3919"
      },
      "source": [
        "x_val[0].shape"
      ],
      "execution_count": null,
      "outputs": [
        {
          "output_type": "execute_result",
          "data": {
            "text/plain": [
              "(3072,)"
            ]
          },
          "metadata": {
            "tags": []
          },
          "execution_count": 52
        }
      ]
    },
    {
      "cell_type": "code",
      "metadata": {
        "id": "07PXRxAEWiVS"
      },
      "source": [
        ""
      ],
      "execution_count": null,
      "outputs": []
    },
    {
      "cell_type": "code",
      "metadata": {
        "colab": {
          "base_uri": "https://localhost:8080/"
        },
        "id": "FuZknNkJWCZ2",
        "outputId": "a6cb56d8-1d4a-4381-871f-1fc9983e0af6"
      },
      "source": [
        "#Now for the predict function, we need to change the dimensions of the input\n",
        "\n",
        "test = np.expand_dims(x_val[0], axis=0)\n",
        "test.shape"
      ],
      "execution_count": null,
      "outputs": [
        {
          "output_type": "execute_result",
          "data": {
            "text/plain": [
              "(1, 3072)"
            ]
          },
          "metadata": {
            "tags": []
          },
          "execution_count": 54
        }
      ]
    },
    {
      "cell_type": "code",
      "metadata": {
        "id": "EMki7_IPWn7V"
      },
      "source": [
        "np.set_printoptions(precision=3)"
      ],
      "execution_count": null,
      "outputs": []
    },
    {
      "cell_type": "code",
      "metadata": {
        "colab": {
          "base_uri": "https://localhost:8080/"
        },
        "id": "CR-UY7kiWWZv",
        "outputId": "21e3676a-c441-4098-a606-13c1713644c9"
      },
      "source": [
        "model_2.predict(test)"
      ],
      "execution_count": null,
      "outputs": [
        {
          "output_type": "execute_result",
          "data": {
            "text/plain": [
              "array([[2.390e-02, 1.914e-03, 3.824e-02, 4.273e-02, 1.004e-01, 1.219e-02,\n",
              "        7.379e-01, 4.242e-02, 1.135e-04, 2.232e-04]], dtype=float32)"
            ]
          },
          "metadata": {
            "tags": []
          },
          "execution_count": 59
        }
      ]
    },
    {
      "cell_type": "code",
      "metadata": {
        "colab": {
          "base_uri": "https://localhost:8080/"
        },
        "id": "LTR4cAj4WbJk",
        "outputId": "afc66e10-e93e-40d0-f8e7-bc1d27f1ac11"
      },
      "source": [
        "model_2.predict(x_val)"
      ],
      "execution_count": null,
      "outputs": [
        {
          "output_type": "execute_result",
          "data": {
            "text/plain": [
              "array([[2.390e-02, 1.914e-03, 3.824e-02, ..., 4.242e-02, 1.135e-04,\n",
              "        2.232e-04],\n",
              "       [4.868e-03, 1.826e-01, 2.008e-03, ..., 1.076e-02, 7.789e-02,\n",
              "        6.682e-01],\n",
              "       [3.181e-03, 1.309e-02, 1.452e-03, ..., 2.067e-02, 7.053e-03,\n",
              "        9.357e-01],\n",
              "       ...,\n",
              "       [3.505e-03, 1.226e-01, 3.877e-03, ..., 4.724e-03, 2.876e-02,\n",
              "        7.627e-01],\n",
              "       [8.566e-03, 5.387e-01, 6.278e-02, ..., 4.937e-02, 4.370e-04,\n",
              "        2.893e-01],\n",
              "       [2.478e-04, 1.294e-05, 2.568e-02, ..., 7.663e-01, 2.512e-05,\n",
              "        8.083e-05]], dtype=float32)"
            ]
          },
          "metadata": {
            "tags": []
          },
          "execution_count": 60
        }
      ]
    },
    {
      "cell_type": "code",
      "metadata": {
        "colab": {
          "base_uri": "https://localhost:8080/"
        },
        "id": "dWzMVC4eW-NN",
        "outputId": "36fb6be7-588a-4cc4-829b-6e940e28068b"
      },
      "source": [
        "#If we just want to get the ans with the highest probability\n",
        "model_2.predict_classes(test)"
      ],
      "execution_count": null,
      "outputs": [
        {
          "output_type": "stream",
          "text": [
            "/usr/local/lib/python3.7/dist-packages/keras/engine/sequential.py:450: UserWarning: `model.predict_classes()` is deprecated and will be removed after 2021-01-01. Please use instead:* `np.argmax(model.predict(x), axis=-1)`,   if your model does multi-class classification   (e.g. if it uses a `softmax` last-layer activation).* `(model.predict(x) > 0.5).astype(\"int32\")`,   if your model does binary classification   (e.g. if it uses a `sigmoid` last-layer activation).\n",
            "  warnings.warn('`model.predict_classes()` is deprecated and '\n"
          ],
          "name": "stderr"
        },
        {
          "output_type": "execute_result",
          "data": {
            "text/plain": [
              "array([6])"
            ]
          },
          "metadata": {
            "tags": []
          },
          "execution_count": 61
        }
      ]
    },
    {
      "cell_type": "code",
      "metadata": {
        "colab": {
          "base_uri": "https://localhost:8080/"
        },
        "id": "HK43DjgOYMCR",
        "outputId": "3d101f86-3cbb-440a-903e-8516de8cb65c"
      },
      "source": [
        "np.argmax(model_1.predict(test), axis=-1)"
      ],
      "execution_count": null,
      "outputs": [
        {
          "output_type": "execute_result",
          "data": {
            "text/plain": [
              "array([6])"
            ]
          },
          "metadata": {
            "tags": []
          },
          "execution_count": 63
        }
      ]
    },
    {
      "cell_type": "code",
      "metadata": {
        "colab": {
          "base_uri": "https://localhost:8080/"
        },
        "id": "qPpymuivYYQb",
        "outputId": "5b3b5434-2afd-41fa-da54-2a517392bca4"
      },
      "source": [
        "y_val[0]"
      ],
      "execution_count": null,
      "outputs": [
        {
          "output_type": "execute_result",
          "data": {
            "text/plain": [
              "array([6], dtype=uint8)"
            ]
          },
          "metadata": {
            "tags": []
          },
          "execution_count": 64
        }
      ]
    },
    {
      "cell_type": "code",
      "metadata": {
        "colab": {
          "base_uri": "https://localhost:8080/"
        },
        "id": "Lk164NQcYiJS",
        "outputId": "e3268606-3d65-4946-d459-da3e3e4bc544"
      },
      "source": [
        "for i in range(10):\n",
        "  a = model_2.predict_classes(np.expand_dims(x_val[i], axis=0))[0]\n",
        "  b = y_val[i][0]\n",
        "  print(f\"predicted :{a} vs actual :{b}\")\n",
        "  \n",
        "  # if a == b:\n",
        "  #   print(\"Yay\")\n",
        "  # else:\n",
        "  #   print(\"Nay\")"
      ],
      "execution_count": null,
      "outputs": [
        {
          "output_type": "stream",
          "text": [
            "/usr/local/lib/python3.7/dist-packages/keras/engine/sequential.py:450: UserWarning: `model.predict_classes()` is deprecated and will be removed after 2021-01-01. Please use instead:* `np.argmax(model.predict(x), axis=-1)`,   if your model does multi-class classification   (e.g. if it uses a `softmax` last-layer activation).* `(model.predict(x) > 0.5).astype(\"int32\")`,   if your model does binary classification   (e.g. if it uses a `sigmoid` last-layer activation).\n",
            "  warnings.warn('`model.predict_classes()` is deprecated and '\n"
          ],
          "name": "stderr"
        },
        {
          "output_type": "stream",
          "text": [
            "predicted :6 vs actual :6\n",
            "predicted :9 vs actual :9\n",
            "predicted :9 vs actual :9\n",
            "predicted :6 vs actual :4\n",
            "predicted :8 vs actual :1\n",
            "predicted :9 vs actual :1\n",
            "predicted :6 vs actual :2\n",
            "predicted :7 vs actual :7\n",
            "predicted :8 vs actual :8\n",
            "predicted :9 vs actual :3\n"
          ],
          "name": "stdout"
        }
      ]
    },
    {
      "cell_type": "code",
      "metadata": {
        "id": "ilK3B585Y3wD"
      },
      "source": [
        ""
      ],
      "execution_count": null,
      "outputs": []
    },
    {
      "cell_type": "markdown",
      "metadata": {
        "id": "HZbqKRaYaVUx"
      },
      "source": [
        "#EVALUATION"
      ]
    },
    {
      "cell_type": "code",
      "metadata": {
        "colab": {
          "base_uri": "https://localhost:8080/"
        },
        "id": "sYhRgjEnaXEd",
        "outputId": "3649b21d-e4c2-41a1-dd9e-54f68f3ab1c7"
      },
      "source": [
        "model_2.metrics_names"
      ],
      "execution_count": null,
      "outputs": [
        {
          "output_type": "execute_result",
          "data": {
            "text/plain": [
              "['loss', 'accuracy']"
            ]
          },
          "metadata": {
            "tags": []
          },
          "execution_count": 72
        }
      ]
    },
    {
      "cell_type": "code",
      "metadata": {
        "colab": {
          "base_uri": "https://localhost:8080/"
        },
        "id": "cyFlyYrwtBAS",
        "outputId": "b6ee374f-f985-49f0-db34-42ae297f90a7"
      },
      "source": [
        "test_loss, test_accuracy = model_2.evaluate(x_test, y_test)\n",
        "print(f'Test loss is {test_loss:0.3} and test accuracy is {test_accuracy:0.1%}')"
      ],
      "execution_count": null,
      "outputs": [
        {
          "output_type": "stream",
          "text": [
            "313/313 [==============================] - 1s 3ms/step - loss: 1.4385 - accuracy: 0.4902\n",
            "Test loss is 1.44 and test accuracy is 49.0%\n"
          ],
          "name": "stdout"
        }
      ]
    },
    {
      "cell_type": "markdown",
      "metadata": {
        "id": "F8O7U-Duuqvc"
      },
      "source": [
        "#Confusion Matrix"
      ]
    },
    {
      "cell_type": "code",
      "metadata": {
        "colab": {
          "base_uri": "https://localhost:8080/"
        },
        "id": "3VtRxNkquhWn",
        "outputId": "89810ff0-81e4-42f5-8cd9-4e4d353f3513"
      },
      "source": [
        "predictions = model_2.predict_classes(x_test)\n",
        "conf_matrix = confusion_matrix(y_test, predictions)"
      ],
      "execution_count": null,
      "outputs": [
        {
          "output_type": "stream",
          "text": [
            "/usr/local/lib/python3.7/dist-packages/keras/engine/sequential.py:450: UserWarning: `model.predict_classes()` is deprecated and will be removed after 2021-01-01. Please use instead:* `np.argmax(model.predict(x), axis=-1)`,   if your model does multi-class classification   (e.g. if it uses a `softmax` last-layer activation).* `(model.predict(x) > 0.5).astype(\"int32\")`,   if your model does binary classification   (e.g. if it uses a `sigmoid` last-layer activation).\n",
            "  warnings.warn('`model.predict_classes()` is deprecated and '\n"
          ],
          "name": "stderr"
        }
      ]
    },
    {
      "cell_type": "code",
      "metadata": {
        "colab": {
          "base_uri": "https://localhost:8080/"
        },
        "id": "Mnst7_T9vVCt",
        "outputId": "9e6042a6-e51a-481c-b677-506a8955afb7"
      },
      "source": [
        "print(conf_matrix)"
      ],
      "execution_count": null,
      "outputs": [
        {
          "output_type": "stream",
          "text": [
            "[[546  24  84  26  42  12  27  28 183  28]\n",
            " [ 60 547  14  29  22  24  27  21 126 130]\n",
            " [ 65  15 312  61 201 111 130  65  28  12]\n",
            " [ 30  16  83 273  68 255 172  48  28  27]\n",
            " [ 44  10 113  33 485  66 143  74  29   3]\n",
            " [ 12   8 104 162  72 430 100  66  31  15]\n",
            " [  3  11  49  61 136  52 638  27  19   4]\n",
            " [ 46   8  64  51 115  91  38 540  24  23]\n",
            " [100  44  14  22  31  39  22  15 683  30]\n",
            " [ 60 154  24  30  17  30  34  55 148 448]]\n"
          ],
          "name": "stdout"
        }
      ]
    },
    {
      "cell_type": "code",
      "metadata": {
        "colab": {
          "base_uri": "https://localhost:8080/"
        },
        "id": "E_TzIHu7vZKg",
        "outputId": "6e41f524-9e54-417e-b9cb-0ca8ff2fe286"
      },
      "source": [
        "conf_matrix.max()"
      ],
      "execution_count": null,
      "outputs": [
        {
          "output_type": "execute_result",
          "data": {
            "text/plain": [
              "683"
            ]
          },
          "metadata": {
            "tags": []
          },
          "execution_count": 80
        }
      ]
    },
    {
      "cell_type": "code",
      "metadata": {
        "colab": {
          "base_uri": "https://localhost:8080/",
          "height": 411
        },
        "id": "IeE0uZD_vlPE",
        "outputId": "12286173-6ae1-46e4-91e6-c2db24ffa87c"
      },
      "source": [
        "plt.figure(figsize=(7,7))\n",
        "plt.imshow(conf_matrix, cmap = plt.cm.Greys)\n",
        "\n",
        "plt.title('Confusion Matrix', fontsize=16)\n",
        "plt.ylabel('Actual Labels', fontsize=12)\n",
        "plt.xlabel('Predicted Labels', fontsize=12)\n",
        "\n",
        "tick_marks = np.arange(NR_CLASSES)\n",
        "plt.yticks(tick_marks, LABEL_NAMES)\n",
        "plt.xticks(tick_marks, LABEL_NAMES)\n",
        "plt.colorbar()\n",
        "\n",
        "for i,j in itertools.product(range(10), range(10)):\n",
        "  plt.text(j, i, conf_matrix[i,j], horizontalalignment = 'center', \n",
        "           color ='white' if conf_matrix[i, j] > conf_matrix.max()/2 else 'black')\n",
        "\n",
        "plt.show()"
      ],
      "execution_count": null,
      "outputs": [
        {
          "output_type": "display_data",
          "data": {
            "image/png": "[encoded data removed]",
            "text/plain": [
              "<Figure size 504x504 with 2 Axes>"
            ]
          },
          "metadata": {
            "tags": [],
            "needs_background": "light"
          }
        }
      ]
    },
    {
      "cell_type": "code",
      "metadata": {
        "colab": {
          "base_uri": "https://localhost:8080/"
        },
        "id": "xgC-bNZXv-xu",
        "outputId": "8684ef2a-f69d-490e-9eb2-90dc02a4211b"
      },
      "source": [
        "#True Positives\n",
        "np.diag(conf_matrix)"
      ],
      "execution_count": null,
      "outputs": [
        {
          "output_type": "execute_result",
          "data": {
            "text/plain": [
              "array([546, 547, 312, 273, 485, 430, 638, 540, 683, 448])"
            ]
          },
          "metadata": {
            "tags": []
          },
          "execution_count": 94
        }
      ]
    },
    {
      "cell_type": "code",
      "metadata": {
        "colab": {
          "base_uri": "https://localhost:8080/"
        },
        "id": "7RCgMvOtUVHQ",
        "outputId": "9e9a5cca-a8be-4af4-acfc-765ff8022c8b"
      },
      "source": [
        "recall = np.diag(conf_matrix)/np.sum(conf_matrix, axis = 1)\n",
        "recall"
      ],
      "execution_count": null,
      "outputs": [
        {
          "output_type": "execute_result",
          "data": {
            "text/plain": [
              "array([0.546, 0.547, 0.312, 0.273, 0.485, 0.43 , 0.638, 0.54 , 0.683,\n",
              "       0.448])"
            ]
          },
          "metadata": {
            "tags": []
          },
          "execution_count": 97
        }
      ]
    },
    {
      "cell_type": "code",
      "metadata": {
        "colab": {
          "base_uri": "https://localhost:8080/"
        },
        "id": "X4Lhbo5EUtfp",
        "outputId": "0f5ba287-93b2-4986-a09e-148755e6a9bb"
      },
      "source": [
        "precision = np.diag(conf_matrix)/np.sum(conf_matrix, axis = 0)\n",
        "precision"
      ],
      "execution_count": null,
      "outputs": [
        {
          "output_type": "execute_result",
          "data": {
            "text/plain": [
              "array([0.565, 0.654, 0.362, 0.365, 0.408, 0.387, 0.479, 0.575, 0.526,\n",
              "       0.622])"
            ]
          },
          "metadata": {
            "tags": []
          },
          "execution_count": 99
        }
      ]
    },
    {
      "cell_type": "code",
      "metadata": {
        "colab": {
          "base_uri": "https://localhost:8080/"
        },
        "id": "MzeFFTkyXmLY",
        "outputId": "8298ec86-c27b-43de-ebed-a773db022a60"
      },
      "source": [
        "#Just average these now\n",
        "avg_recall = np.mean(recall)\n",
        "print(f'Model 2 recall score is {avg_recall}')"
      ],
      "execution_count": null,
      "outputs": [
        {
          "output_type": "stream",
          "text": [
            "Model 2 recall score is 0.4902\n"
          ],
          "name": "stdout"
        }
      ]
    },
    {
      "cell_type": "code",
      "metadata": {
        "colab": {
          "base_uri": "https://localhost:8080/"
        },
        "id": "XCrMOWanX79W",
        "outputId": "94b62563-f65a-4394-8d82-1a6d951d56df"
      },
      "source": [
        "avg_precision = np.mean(precision)\n",
        "print(f'Model 2 precision score is {avg_precision:.2%}')\n",
        "\n",
        "f1_score = 2 * (avg_precision * avg_recall) / (avg_precision + avg_recall)\n",
        "print(f'Model 2 f score is {f1_score:.2%}')"
      ],
      "execution_count": null,
      "outputs": [
        {
          "output_type": "stream",
          "text": [
            "Model 2 precision score is 49.44%\n",
            "Model 2 f score is 49.23%\n"
          ],
          "name": "stdout"
        }
      ]
    },
    {
      "cell_type": "code",
      "metadata": {
        "id": "GTBDlMtgdtIN"
      },
      "source": [
        ""
      ],
      "execution_count": null,
      "outputs": []
    }
  ]
}